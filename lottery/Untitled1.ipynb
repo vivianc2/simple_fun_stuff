{
 "cells": [
  {
   "cell_type": "code",
   "execution_count": 3,
   "id": "6b114a2c",
   "metadata": {},
   "outputs": [],
   "source": [
    "text = \"& Juliet Running time: 2 hours and 30 minutes, including intermission Opened November 17, 2022 Click here to read the reviews. To purchase tickets, click here. Stephen Sondheim Theatre: 124 W 43rd St, New York, NY 100136    Aladdin  Running time: 2 hours and 30 minutes, including intermission Opened March 20, 2014 Click here to read the reviews. To purchase tickets, click here.  New Amsterdam Theatre: 214 W 42nd St, New York, NY 10036 A Beautiful Noise Running time: 2 hours and 15 minutes, including intermission Opened December 4, 2022 Click here to read the reviews. To purchase tickets, click here.  Broadhurst Theatre: 235 W 44th St, New York, NY 10036 The Book of Mormon Running time: 2 hours and 30 minutes, including intermission Opened March 24, 2011 To purchase tickets, click here.  Eugene O'Neill Theatre: 230 W 49th St, New York, NY 10019   Camelot Running time: 3 hours, including intermission Opened April 13, 2023 Click here to read the reviews. To purchase tickets, click here. Vivian Beaumont Theatre: 150 W 65th St, New York, NY 10023 Chicago Running time: 2 hours and 30 minutes minutes, including intermission Opened November 14, 1996 To purchase tickets, click here.  Ambassador Theatre: 219 W 49th St, New York, NY 10019  Fat Ham Running time: 1 hour and 35 minutes, no intermission Opened April 12, 2023 Click here to read the reviews. To purchase tickets, click here. American Airlines Theatre: 227 W 42nd St, New York, NY 10036 Funny Girl Running time: 2 hours and 50 minutes, including intermission Opened April 24, 2022 Click here to read the reviews. To purchase tickets, click here. August Wilson Theatre: 245 W 52nd St, New York, NY 10019  Good Night, Oscar Running time: 1 hour and 40 minutes, no intermission Opened April 24, 2023 Click here to read the reviews. To purchase tickets, click here.  Belasco Theatre: 111 W 44th St, New York, NY 10036 Grey House Running time: 1 hour and 40 minutes, no intermission Opened May 30, 2023 Click here to read the reviews. To purchase tickets, click here. Lyceum Theatre: 149 W 45th St, New York, NY 1003 Hadestown Running time: 2 hours and 25 minutes, including intermission Opened April 17, 2019 Click here to read reviews. To buy tickets, click here. Walter Kerr Theatre: 219 W 48th St, New York, NY 10036  Hamilton Running time: 2 hours and 55 minutes, including intermission Opened August 6, 2015 Click here to read the reviews. To purchase tickets, click here.  Richard Rodgers Theatre: 226 W 46th St, New York, NY 10036 Harry Potter and the Cursed Child  Running time: 3 hours and 30 minutes, including intermission Opened December 7, 2021 Click here to read reviews for the updated production. To purchase tickets, click here. Lyric Theatre: 213 W 42nd St, New York, NY 10036 Here Lies Love Running time: 1 hour and 30 minutes, no intermission Opening July 20, 2023 To purchase tickets, click here. Broadway Theatre: 1681 Broadway (at W. 53rd St.), New York, NY 10019   Kimberly Akimbo Running time: 2 hours and 20 minutes, including intermission Opened November 10, 2022 Click here to read the reviews.  To purchase tickets, click here. Booth Theatre: 222 W 45th St, New York, NY 10036 Leopoldstadt Running time: 2 hours and 10 minutes, no intermission Opened October 2, 2022 Click here to read the reviews. To purchase tickets, click here. Longacre Theatre: 220 W 48th St, New York, NY 10036 Life of Pi Running time: 2 hours and 10 minutes, including intermission Opened March 30, 2022 Click here to read the reviews. To purchase tickets, click here. Schoenfeld Theatre: 236 W 45th St, New York, NY 10036 The Lion King Running time: 2 hours and 30 minutes, including intermission Opened November 13, 1997 To purchase tickets, click here. Minskoff Theatre: 200 W 45th St, New York, NY 10036  MJ Running time: 2 hours and 30 minutes, including intermission Opened February 1 Click here to read reviews. To purchase tickets, click here.  Neil Simon Theatre: 250 W 52nd St, New York, NY 10019  Moulin Rouge! Running time: 2 hours and 45 minutes, including intermission Opened July 25, 2019 Click here to read reviews.  To purchase tickets, click here. Al Hirschfeld Theatre: 302 W 45th St, New York, NY 10036   New York, New York Running time: 2 hours and 35 minutes, including intermission Opened April 26, 2023 Click here to read the reviews. To purchase tickets, click here. St. James Theatre: 246 W 44th St, New York, NY 10036  Once Upon a One More Time Running time: 2 hours and 30 minutes, including intermission Opening June 22, 2023 To purchase tickets, click here.  Marquis Theatre: 1535 Broadway (between 45th and 46th Streets), New York, NY 10036 Parade Running time: 2 hours and 30 minutes, including intermission Opened March 16, 2023 Click here to read the reviews. To purchase tickets, click here. Bernard B. Jacobs Theatre: 242 W 45th St, New York, NY 10036 Peter Pan Goes Wrong Running time: 2 hours and 5 minutes, including intermission Opened April 19, 2023 Click here to read reviews. To purchase tickets, click here. Ethel Barrymore Theatre: 243 W 47th St, New York, NY 10036  Prima Facie Running time: 1 hour and 40 minutes, no intermission Opened April 23, 2023 Click here to read the reviews. To purchase tickets, click here.  John Golden Theatre: 252 W 45th St, New York, NY 10036 Shucked Running time: 2 hours and 15 minutes, including intermission Opened April 4, 2023 Click here to read reviews. To purchase tickets, click here. Nederlander Theatre: 208 W 41st St, New York, NY 10036 The Sign in Sidney Brustein's Window Running time: 2 hours and 45 minutes, including intermission Opened April 27, 2023 Click here to read the reviews.  To purchase tickets, click here.  James Earl Jones Theatre: 138 W 48th St, New York, NY 10036 Six Running time: 1 hour and 20 minutes minutes, no intermission Opened October 3, 2021 Click here to read reviews.  To purchase tickets, click here.  Lena Horne Theatre: 256 W 47th St, New York, NY 10036   Some Like It Hot Running time: 2 hours and 30 minutes, including intermission Opened December 11, 2023 Click here to reviews. To purchase tickets, click here. Shubert Theatre: 225 W 44th St, New York, NY 10036 Sweeney Todd Running time: 2 hours and 30 minutes, including intermission Opened March 26, 2023 Click here to reviews. To purchase tickets, click here. Lunt-Fontanne Theatre: 205 W 46th St, New York, NY 10036  Wicked Running time: 2 hours and 30 minutes, including intermission Opened October 30, 2003 To purchase tickets, click here.  Gershwin Theatre: 222 W 51st St, New York, NY 10019\"\n",
    "\n",
    "\n"
   ]
  },
  {
   "cell_type": "code",
   "execution_count": 4,
   "id": "40971795",
   "metadata": {},
   "outputs": [],
   "source": [
    "import re\n",
    "import pandas as pd"
   ]
  },
  {
   "cell_type": "code",
   "execution_count": 10,
   "id": "206b4b84",
   "metadata": {
    "scrolled": true
   },
   "outputs": [
    {
     "name": "stdout",
     "output_type": "stream",
     "text": [
      "  Show Name                                    Running Time  \\\n",
      "0  & Juliet  2 hours and 30 minutes, including intermission   \n",
      "\n",
      "              Opened              Theatre Name  \\\n",
      "0  November 17, 2022  Stephen Sondheim Theatre   \n",
      "\n",
      "                                     Theatre Address  \n",
      "0  124 W 43rd St, New York, NY 100136    Aladdin ...  \n"
     ]
    }
   ],
   "source": [
    "# Regular expression patterns for extracting information\n",
    "pattern = r\"(?P<show_name>.*?)\\s+Running time:\\s+(?P<running_time>.*?)\\s+Opened\\s+(?P<opened>.*?)\\s+Click here.*?To purchase tickets, click here.\\s+(?P<theatre_name>.*?)\\s*:\\s*(?P<theatre_address>.+?)$\"\n",
    "matches = re.findall(pattern, text, re.MULTILINE | re.DOTALL)\n",
    "\n",
    "# Creating a DataFrame to store the extracted information\n",
    "data = pd.DataFrame(matches, columns=['Show Name', 'Running Time', 'Opened', 'Theatre Name', 'Theatre Address'])\n",
    "\n",
    "# Displaying the table\n",
    "print(data)"
   ]
  },
  {
   "cell_type": "code",
   "execution_count": 13,
   "id": "9cfb0b03",
   "metadata": {},
   "outputs": [
    {
     "data": {
      "text/html": [
       "<div>\n",
       "<style scoped>\n",
       "    .dataframe tbody tr th:only-of-type {\n",
       "        vertical-align: middle;\n",
       "    }\n",
       "\n",
       "    .dataframe tbody tr th {\n",
       "        vertical-align: top;\n",
       "    }\n",
       "\n",
       "    .dataframe thead th {\n",
       "        text-align: right;\n",
       "    }\n",
       "</style>\n",
       "<table border=\"1\" class=\"dataframe\">\n",
       "  <thead>\n",
       "    <tr style=\"text-align: right;\">\n",
       "      <th></th>\n",
       "      <th>Show Name</th>\n",
       "      <th>Running Time</th>\n",
       "      <th>Opened</th>\n",
       "      <th>Theatre Name</th>\n",
       "      <th>Theatre Address</th>\n",
       "    </tr>\n",
       "  </thead>\n",
       "  <tbody>\n",
       "    <tr>\n",
       "      <th>0</th>\n",
       "      <td>&amp; Juliet</td>\n",
       "      <td>2 hours and 30 minutes, including intermission</td>\n",
       "      <td>November 17, 2022</td>\n",
       "      <td>Stephen Sondheim Theatre</td>\n",
       "      <td>124 W 43rd St, New York, NY 100136    Aladdin ...</td>\n",
       "    </tr>\n",
       "  </tbody>\n",
       "</table>\n",
       "</div>"
      ],
      "text/plain": [
       "  Show Name                                    Running Time  \\\n",
       "0  & Juliet  2 hours and 30 minutes, including intermission   \n",
       "\n",
       "              Opened              Theatre Name  \\\n",
       "0  November 17, 2022  Stephen Sondheim Theatre   \n",
       "\n",
       "                                     Theatre Address  \n",
       "0  124 W 43rd St, New York, NY 100136    Aladdin ...  "
      ]
     },
     "execution_count": 13,
     "metadata": {},
     "output_type": "execute_result"
    }
   ],
   "source": [
    "data"
   ]
  },
  {
   "cell_type": "code",
   "execution_count": 7,
   "id": "aab60225",
   "metadata": {
    "scrolled": true
   },
   "outputs": [
    {
     "data": {
      "text/html": [
       "<div>\n",
       "<style scoped>\n",
       "    .dataframe tbody tr th:only-of-type {\n",
       "        vertical-align: middle;\n",
       "    }\n",
       "\n",
       "    .dataframe tbody tr th {\n",
       "        vertical-align: top;\n",
       "    }\n",
       "\n",
       "    .dataframe thead th {\n",
       "        text-align: right;\n",
       "    }\n",
       "</style>\n",
       "<table border=\"1\" class=\"dataframe\">\n",
       "  <thead>\n",
       "    <tr style=\"text-align: right;\">\n",
       "      <th></th>\n",
       "      <th>Show Name</th>\n",
       "      <th>Running Time</th>\n",
       "      <th>Opened</th>\n",
       "      <th>Theatre Name</th>\n",
       "      <th>Theatre Address</th>\n",
       "    </tr>\n",
       "  </thead>\n",
       "  <tbody>\n",
       "    <tr>\n",
       "      <th>0</th>\n",
       "      <td>&amp; Juliet</td>\n",
       "      <td>2 hours and 30 minutes, including intermission</td>\n",
       "      <td>November 17, 2022</td>\n",
       "      <td>Stephen Sondheim Theatre</td>\n",
       "      <td>124 W 43rd St, New York, NY 100136    Aladdin ...</td>\n",
       "    </tr>\n",
       "  </tbody>\n",
       "</table>\n",
       "</div>"
      ],
      "text/plain": [
       "  Show Name                                    Running Time  \\\n",
       "0  & Juliet  2 hours and 30 minutes, including intermission   \n",
       "\n",
       "              Opened              Theatre Name  \\\n",
       "0  November 17, 2022  Stephen Sondheim Theatre   \n",
       "\n",
       "                                     Theatre Address  \n",
       "0  124 W 43rd St, New York, NY 100136    Aladdin ...  "
      ]
     },
     "execution_count": 7,
     "metadata": {},
     "output_type": "execute_result"
    }
   ],
   "source": [
    "data"
   ]
  },
  {
   "cell_type": "code",
   "execution_count": null,
   "id": "a8fafc6a",
   "metadata": {},
   "outputs": [],
   "source": []
  },
  {
   "cell_type": "code",
   "execution_count": null,
   "id": "7e6d0193",
   "metadata": {},
   "outputs": [],
   "source": []
  },
  {
   "cell_type": "code",
   "execution_count": 8,
   "id": "f618d201",
   "metadata": {},
   "outputs": [
    {
     "name": "stdout",
     "output_type": "stream",
     "text": [
      "Empty DataFrame\n",
      "Columns: [Show Name, Running Time, Opened, Theatre Name, Theatre Address]\n",
      "Index: []\n"
     ]
    }
   ],
   "source": [
    "# Regular expression patterns for extracting information\n",
    "pattern = r\"(?P<show_name>.*?)\\s+Running time:\\s+(?P<running_time>.*?)\\s+Opened\\s+(?P<opened>.*?)\\n.*?(?P<theatre_name>.*?)\\s*:\\s*(?P<theatre_address>.+?)$\"\n",
    "matches = re.finditer(pattern, text, re.MULTILINE | re.DOTALL)\n",
    "\n",
    "# Creating a DataFrame to store the extracted information\n",
    "data = pd.DataFrame(matches, columns=['Show Name', 'Running Time', 'Opened', 'Theatre Name', 'Theatre Address'])\n",
    "\n",
    "# Displaying the table\n",
    "print(data)\n"
   ]
  },
  {
   "cell_type": "code",
   "execution_count": null,
   "id": "ef4b8d8c",
   "metadata": {},
   "outputs": [],
   "source": []
  },
  {
   "cell_type": "code",
   "execution_count": 15,
   "id": "4448878e",
   "metadata": {},
   "outputs": [
    {
     "data": {
      "text/plain": [
       "\"                   Show Name              Running Time              Opened               Theatre Name                             Theatre Address\\n0                   & Juliet   2 hours and 30 minutes  November 17, 2022   Stephen Sondheim Theatre            124 W 43rd St, New York, NY 100136\\n1                   Aladdin   2 hours and 30 minutes     March 20, 2014     New Amsterdam Theatre           214 W 42nd St, New York, NY 10036\\n2          A Beautiful Noise   2 hours and 15 minutes    December 4, 2022       Broadhurst Theatre           235 W 44th St, New York, NY 10036\\n3        The Book of Mormon   2 hours and 30 minutes     March 24, 2011         Eugene O'Neill Theatre           230 W 49th St, New York, NY 10019\\n4                   Camelot          3 hours, including intermission        April 13, 2023          Vivian Beaumont Theatre          150 W 65th St, New York, NY 10023\\n5                   Chicago   2 hours and 30 minutes    November 14, 1996         Ambassador Theatre           219 W 49th St, New York, NY 10019\\n6                   Fat Ham   1 hour and 35 minutes, no intermission     April 12, 2023     American Airlines Theatre          227 W 42nd St, New York, NY 10036\\n7                Funny Girl   2 hours and 50 minutes, including intermission    April 24, 2022       August Wilson Theatre          245 W 52nd St, New York, NY 10019\\n8            Good Night, Oscar  1 hour and 40 minutes, no intermission  April 24, 2023            Belasco Theatre          111 W 44th St, New York, NY 10036\\n9                 Grey House   1 hour and 40 minutes, no intermission       May 30, 2023                Lyceum Theatre          149 W 45th St, New York, NY 1003\\n10                 Hadestown   2 hours and 25 minutes, including intermission   April 17, 2019          Walter Kerr Theatre          219 W 48th St, New York, NY 10036\\n11                 Hamilton   2 hours and 55 minutes, including intermission     August 6, 2015          Richard Rodgers Theatre          226 W 46th St, New York, NY 10036\\n12  Harry Potter and the Cursed Child   3 hours and 30 minutes, including intermission  December 7, 2021                 Lyric Theatre          213 W 42nd St, New York, NY 10036\\n13          Here Lies Love   1 hour and 30 minutes, no intermission   July 20, 2023         Broadway Theatre   1681 Broadway (at W. 53rd St.), New York, NY 10019\\n14         Kimberly Akimbo   2 hours and 20 minutes, including intermission  November 10, 2022                Booth Theatre          222 W 45th St, New York, NY 10036\\n15             Leopoldstadt   2 hours and 10 minutes, no intermission    October 2, 2022             Longacre Theatre          220 W 48th St, New York, NY 10036\\n16                Life of Pi   2 hours and 10 minutes, including intermission     March 30, 2022         Schoenfeld Theatre          236 W 45th St, New York, NY 10036\\n17           The Lion King   2 hours and 30 minutes, including intermission   November 13, 1997              Minskoff Theatre          200 W 45th St, New York, NY 10036\\n18                  MJ   2 hours and 30 minutes, including intermission  February 1                  Neil Simon Theatre          250 W 52nd St, New York, NY 10019\\n19            Moulin Rouge!   2 hours and 45 minutes, including intermission     July 25, 2019           Al Hirschfeld Theatre          302 W 45th St, New York, NY 10036\\n20         New York, New York   2 hours and 35 minutes, including intermission   April 26, 2023                St. James Theatre          246 W 44th St, New York, NY 10036\\n21   Once Upon a One More Time   2 hours and 30 minutes, including intermission    June 22, 2023                Marquis Theatre          1535 Broadway (between 45th and 46th Streets), New York, NY 10036\\n22                 Parade   2 hours and 30 minutes, including intermission     March 16, 2023             Bernard B. Jacobs Theatre          242 W 45th St, New York, NY 10036\\n23       Peter Pan Goes Wrong   2 hours and 5 minutes, including intermission     April 19, 2023           Ethel Barrymore Theatre          243 W 47th St, New York, NY 10036\\n24             Prima Facie   1 hour and 40 minutes, no intermission       April 23, 2023                John Golden Theatre          252 W 45th St, New York, NY 10036\\n25                  Shucked   2 hours and 15 minutes, including intermission     April 4, 2023             Nederlander Theatre          208 W 41st St, New York, NY 10036\\n26  The Sign in Sidney Brustein's Window   2 hours and 45 minutes, including intermission  April 27, 2023                James Earl Jones Theatre          138 W 48th St, New York, NY 10036\\n27                      Six   1 hour and 20 minutes minutes, no intermission  October 3, 2021               Lena Horne Theatre          256 W 47th St, New York, NY 10036\\n28          Some Like It Hot   2 hours and 30 minutes, including intermission  December 11, 2023                Shubert Theatre          225 W 44th St, New York, NY 10036\\n29              Sweeney Todd   2 hours and 30 minutes, including intermission     March 26, 2023          Lunt-Fontanne Theatre          205 W 46th St, New York, NY 10036\\n30                  Wicked   2 hours and 30 minutes, including intermission   October 30, 2003              Gershwin Theatre          222 W 51st St, New York, NY 10019\\n\""
      ]
     },
     "execution_count": 15,
     "metadata": {},
     "output_type": "execute_result"
    }
   ],
   "source": [
    "text2"
   ]
  },
  {
   "cell_type": "code",
   "execution_count": 14,
   "id": "e75308d5",
   "metadata": {},
   "outputs": [],
   "source": [
    "text2=\"\"\"                   Show Name              Running Time              Opened               Theatre Name                             Theatre Address\n",
    "0                   & Juliet   2 hours and 30 minutes  November 17, 2022   Stephen Sondheim Theatre            124 W 43rd St, New York, NY 100136\n",
    "1                   Aladdin   2 hours and 30 minutes     March 20, 2014     New Amsterdam Theatre           214 W 42nd St, New York, NY 10036\n",
    "2          A Beautiful Noise   2 hours and 15 minutes    December 4, 2022       Broadhurst Theatre           235 W 44th St, New York, NY 10036\n",
    "3        The Book of Mormon   2 hours and 30 minutes     March 24, 2011         Eugene O'Neill Theatre           230 W 49th St, New York, NY 10019\n",
    "4                   Camelot          3 hours, including intermission        April 13, 2023          Vivian Beaumont Theatre          150 W 65th St, New York, NY 10023\n",
    "5                   Chicago   2 hours and 30 minutes    November 14, 1996         Ambassador Theatre           219 W 49th St, New York, NY 10019\n",
    "6                   Fat Ham   1 hour and 35 minutes, no intermission     April 12, 2023     American Airlines Theatre          227 W 42nd St, New York, NY 10036\n",
    "7                Funny Girl   2 hours and 50 minutes, including intermission    April 24, 2022       August Wilson Theatre          245 W 52nd St, New York, NY 10019\n",
    "8            Good Night, Oscar  1 hour and 40 minutes, no intermission  April 24, 2023            Belasco Theatre          111 W 44th St, New York, NY 10036\n",
    "9                 Grey House   1 hour and 40 minutes, no intermission       May 30, 2023                Lyceum Theatre          149 W 45th St, New York, NY 1003\n",
    "10                 Hadestown   2 hours and 25 minutes, including intermission   April 17, 2019          Walter Kerr Theatre          219 W 48th St, New York, NY 10036\n",
    "11                 Hamilton   2 hours and 55 minutes, including intermission     August 6, 2015          Richard Rodgers Theatre          226 W 46th St, New York, NY 10036\n",
    "12  Harry Potter and the Cursed Child   3 hours and 30 minutes, including intermission  December 7, 2021                 Lyric Theatre          213 W 42nd St, New York, NY 10036\n",
    "13          Here Lies Love   1 hour and 30 minutes, no intermission   July 20, 2023         Broadway Theatre   1681 Broadway (at W. 53rd St.), New York, NY 10019\n",
    "14         Kimberly Akimbo   2 hours and 20 minutes, including intermission  November 10, 2022                Booth Theatre          222 W 45th St, New York, NY 10036\n",
    "15             Leopoldstadt   2 hours and 10 minutes, no intermission    October 2, 2022             Longacre Theatre          220 W 48th St, New York, NY 10036\n",
    "16                Life of Pi   2 hours and 10 minutes, including intermission     March 30, 2022         Schoenfeld Theatre          236 W 45th St, New York, NY 10036\n",
    "17           The Lion King   2 hours and 30 minutes, including intermission   November 13, 1997              Minskoff Theatre          200 W 45th St, New York, NY 10036\n",
    "18                  MJ   2 hours and 30 minutes, including intermission  February 1                  Neil Simon Theatre          250 W 52nd St, New York, NY 10019\n",
    "19            Moulin Rouge!   2 hours and 45 minutes, including intermission     July 25, 2019           Al Hirschfeld Theatre          302 W 45th St, New York, NY 10036\n",
    "20         New York, New York   2 hours and 35 minutes, including intermission   April 26, 2023                St. James Theatre          246 W 44th St, New York, NY 10036\n",
    "21   Once Upon a One More Time   2 hours and 30 minutes, including intermission    June 22, 2023                Marquis Theatre          1535 Broadway (between 45th and 46th Streets), New York, NY 10036\n",
    "22                 Parade   2 hours and 30 minutes, including intermission     March 16, 2023             Bernard B. Jacobs Theatre          242 W 45th St, New York, NY 10036\n",
    "23       Peter Pan Goes Wrong   2 hours and 5 minutes, including intermission     April 19, 2023           Ethel Barrymore Theatre          243 W 47th St, New York, NY 10036\n",
    "24             Prima Facie   1 hour and 40 minutes, no intermission       April 23, 2023                John Golden Theatre          252 W 45th St, New York, NY 10036\n",
    "25                  Shucked   2 hours and 15 minutes, including intermission     April 4, 2023             Nederlander Theatre          208 W 41st St, New York, NY 10036\n",
    "26  The Sign in Sidney Brustein's Window   2 hours and 45 minutes, including intermission  April 27, 2023                James Earl Jones Theatre          138 W 48th St, New York, NY 10036\n",
    "27                      Six   1 hour and 20 minutes minutes, no intermission  October 3, 2021               Lena Horne Theatre          256 W 47th St, New York, NY 10036\n",
    "28          Some Like It Hot   2 hours and 30 minutes, including intermission  December 11, 2023                Shubert Theatre          225 W 44th St, New York, NY 10036\n",
    "29              Sweeney Todd   2 hours and 30 minutes, including intermission     March 26, 2023          Lunt-Fontanne Theatre          205 W 46th St, New York, NY 10036\n",
    "30                  Wicked   2 hours and 30 minutes, including intermission   October 30, 2003              Gershwin Theatre          222 W 51st St, New York, NY 10019\n",
    "\"\"\""
   ]
  },
  {
   "cell_type": "code",
   "execution_count": 23,
   "id": "51aefc56",
   "metadata": {
    "scrolled": true
   },
   "outputs": [],
   "source": [
    "# Split the text into rows\n",
    "rows = text2.split('\\n')\n",
    "\n",
    "# Extract column names\n",
    "columns = [column.strip() for column in rows[0].split('  ') if column.strip()]\n",
    "\n",
    "# Create an empty list to store the table data\n",
    "data = []\n",
    "\n",
    "# Iterate over the remaining rows and extract the values\n",
    "for row in rows[1:]:\n",
    "    values = [value.strip() for value in row.split('  ') if value.strip()][1:]\n",
    "    data.append(values)\n",
    "\n",
    "# Create a DataFrame from the data\n",
    "df = pd.DataFrame(data, columns=columns)\n",
    "\n",
    "# Display the DataFrame\n",
    "df.to_csv('theatre_data.csv', index=False)"
   ]
  },
  {
   "cell_type": "markdown",
   "id": "509cf221",
   "metadata": {},
   "source": [
    "                   Show Name              Running Time              Opened               Theatre Name                             Theatre Address\n",
    "0                   & Juliet   2 hours and 30 minutes  November 17, 2022   Stephen Sondheim Theatre            124 W 43rd St, New York, NY 100136\n",
    "1                   Aladdin   2 hours and 30 minutes     March 20, 2014     New Amsterdam Theatre           214 W 42nd St, New York, NY 10036\n",
    "2          A Beautiful Noise   2 hours and 15 minutes    December 4, 2022       Broadhurst Theatre           235 W 44th St, New York, NY 10036\n",
    "3        The Book of Mormon   2 hours and 30 minutes     March 24, 2011         Eugene O'Neill Theatre           230 W 49th St, New York, NY 10019\n",
    "4                   Camelot          3 hours, including intermission        April 13, 2023          Vivian Beaumont Theatre          150 W 65th St, New York, NY 10023\n",
    "5                   Chicago   2 hours and 30 minutes    November 14, 1996         Ambassador Theatre           219 W 49th St, New York, NY 10019\n",
    "6                   Fat Ham   1 hour and 35 minutes, no intermission     April 12, 2023     American Airlines Theatre          227 W 42nd St, New York, NY 10036\n",
    "7                Funny Girl   2 hours and 50 minutes, including intermission    April 24, 2022       August Wilson Theatre          245 W 52nd St, New York, NY 10019\n",
    "8            Good Night, Oscar  1 hour and 40 minutes, no intermission  April 24, 2023            Belasco Theatre          111 W 44th St, New York, NY 10036\n",
    "9                 Grey House   1 hour and 40 minutes, no intermission       May 30, 2023                Lyceum Theatre          149 W 45th St, New York, NY 1003\n",
    "10                 Hadestown   2 hours and 25 minutes, including intermission   April 17, 2019          Walter Kerr Theatre          219 W 48th St, New York, NY 10036\n",
    "11                 Hamilton   2 hours and 55 minutes, including intermission     August 6, 2015          Richard Rodgers Theatre          226 W 46th St, New York, NY 10036\n",
    "12  Harry Potter and the Cursed Child   3 hours and 30 minutes, including intermission  December 7, 2021                 Lyric Theatre          213 W 42nd St, New York, NY 10036\n",
    "13          Here Lies Love   1 hour and 30 minutes, no intermission   July 20, 2023         Broadway Theatre   1681 Broadway (at W. 53rd St.), New York, NY 10019\n",
    "14         Kimberly Akimbo   2 hours and 20 minutes, including intermission  November 10, 2022                Booth Theatre          222 W 45th St, New York, NY 10036\n",
    "15             Leopoldstadt   2 hours and 10 minutes, no intermission    October 2, 2022             Longacre Theatre          220 W 48th St, New York, NY 10036\n",
    "16                Life of Pi   2 hours and 10 minutes, including intermission     March 30, 2022         Schoenfeld Theatre          236 W 45th St, New York, NY 10036\n",
    "17           The Lion King   2 hours and 30 minutes, including intermission   November 13, 1997              Minskoff Theatre          200 W 45th St, New York, NY 10036\n",
    "18                  MJ   2 hours and 30 minutes, including intermission  February 1                  Neil Simon Theatre          250 W 52nd St, New York, NY 10019\n",
    "19            Moulin Rouge!   2 hours and 45 minutes, including intermission     July 25, 2019           Al Hirschfeld Theatre          302 W 45th St, New York, NY 10036\n",
    "20         New York, New York   2 hours and 35 minutes, including intermission   April 26, 2023                St. James Theatre          246 W 44th St, New York, NY 10036\n",
    "21   Once Upon a One More Time   2 hours and 30 minutes, including intermission    June 22, 2023                Marquis Theatre          1535 Broadway (between 45th and 46th Streets), New York, NY 10036\n",
    "22                 Parade   2 hours and 30 minutes, including intermission     March 16, 2023             Bernard B. Jacobs Theatre          242 W 45th St, New York, NY 10036\n",
    "23       Peter Pan Goes Wrong   2 hours and 5 minutes, including intermission     April 19, 2023           Ethel Barrymore Theatre          243 W 47th St, New York, NY 10036\n",
    "24             Prima Facie   1 hour and 40 minutes, no intermission       April 23, 2023                John Golden Theatre          252 W 45th St, New York, NY 10036\n",
    "25                  Shucked   2 hours and 15 minutes, including intermission     April 4, 2023             Nederlander Theatre          208 W 41st St, New York, NY 10036\n",
    "26  The Sign in Sidney Brustein's Window   2 hours and 45 minutes, including intermission  April 27, 2023                James Earl Jones Theatre          138 W 48th St, New York, NY 10036\n",
    "27                      Six   1 hour and 20 minutes minutes, no intermission  October 3, 2021               Lena Horne Theatre          256 W 47th St, New York, NY 10036\n",
    "28          Some Like It Hot   2 hours and 30 minutes, including intermission  December 11, 2023                Shubert Theatre          225 W 44th St, New York, NY 10036\n",
    "29              Sweeney Todd   2 hours and 30 minutes, including intermission     March 26, 2023          Lunt-Fontanne Theatre          205 W 46th St, New York, NY 10036\n",
    "30                  Wicked   2 hours and 30 minutes, including intermission   October 30, 2003              Gershwin Theatre          222 W 51st St, New York, NY 10019\n"
   ]
  },
  {
   "cell_type": "code",
   "execution_count": null,
   "id": "ce2ab29f",
   "metadata": {},
   "outputs": [],
   "source": []
  }
 ],
 "metadata": {
  "kernelspec": {
   "display_name": "Python 3 (ipykernel)",
   "language": "python",
   "name": "python3"
  },
  "language_info": {
   "codemirror_mode": {
    "name": "ipython",
    "version": 3
   },
   "file_extension": ".py",
   "mimetype": "text/x-python",
   "name": "python",
   "nbconvert_exporter": "python",
   "pygments_lexer": "ipython3",
   "version": "3.8.8"
  }
 },
 "nbformat": 4,
 "nbformat_minor": 5
}
